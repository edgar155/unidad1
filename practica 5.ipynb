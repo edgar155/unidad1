{
  "nbformat": 4,
  "nbformat_minor": 0,
  "metadata": {
    "colab": {
      "provenance": [],
      "authorship_tag": "ABX9TyPn9srCRmpQNlqjF5wQaxdz",
      "include_colab_link": true
    },
    "kernelspec": {
      "name": "python3",
      "display_name": "Python 3"
    },
    "language_info": {
      "name": "python"
    }
  },
  "cells": [
    {
      "cell_type": "markdown",
      "metadata": {
        "id": "view-in-github",
        "colab_type": "text"
      },
      "source": [
        "<a href=\"https://colab.research.google.com/github/edgar155/unidad1/blob/main/practica%205.ipynb\" target=\"_parent\"><img src=\"https://colab.research.google.com/assets/colab-badge.svg\" alt=\"Open In Colab\"/></a>"
      ]
    },
    {
      "cell_type": "code",
      "execution_count": null,
      "metadata": {
        "id": "kh-Ir24w0DFq"
      },
      "outputs": [],
      "source": []
    },
    {
      "cell_type": "markdown",
      "source": [
        "lista 1"
      ],
      "metadata": {
        "id": "IQqd50a8-jH_"
      }
    },
    {
      "cell_type": "code",
      "source": [
        "import numpy as np\n",
        "import numpy as np\n",
        "\n",
        "datos = np.array([23, 45, 56, 12, 67, 34, 55, 21],])\n",
        "\n",
        "media = np.mean(datos)\n",
        "\n",
        "print(\"La media es:\", media)\n"
      ],
      "metadata": {
        "colab": {
          "base_uri": "https://localhost:8080/"
        },
        "id": "np79qrd08Xg5",
        "outputId": "c1d1949e-4d56-42bc-dd28-a8768f0c5af0"
      },
      "execution_count": 14,
      "outputs": [
        {
          "output_type": "stream",
          "name": "stdout",
          "text": [
            "La media es: 39.125\n"
          ]
        }
      ]
    },
    {
      "cell_type": "code",
      "source": [
        "import numpy as np\n",
        "\n",
        "\n",
        "datos = np.array([[23, 45, 56, 12, 67, 34, 55, 21], ])\n",
        "\n",
        "\n",
        "mediana = np.median(datos)\n",
        "\n",
        "print(\"La mediana es:\", mediana)\n"
      ],
      "metadata": {
        "colab": {
          "base_uri": "https://localhost:8080/"
        },
        "id": "wKLxLNgr8qw4",
        "outputId": "35fa9a6d-32f5-4516-e420-9493170baafa"
      },
      "execution_count": 15,
      "outputs": [
        {
          "output_type": "stream",
          "name": "stdout",
          "text": [
            "La mediana es: 39.5\n"
          ]
        }
      ]
    },
    {
      "cell_type": "code",
      "source": [
        "import statistics\n",
        "\n",
        "datos = [23, 45, 56, 12, 67, 34, 55, 21]\n",
        "moda=statistics.mode(datos)\n",
        "print(f\"la moda es : {moda}\")"
      ],
      "metadata": {
        "colab": {
          "base_uri": "https://localhost:8080/"
        },
        "id": "62e43pRH9Avo",
        "outputId": "291bfad5-2cac-4728-9d63-12f2da5e2bd1"
      },
      "execution_count": 18,
      "outputs": [
        {
          "output_type": "stream",
          "name": "stdout",
          "text": [
            "la moda es : 23\n"
          ]
        }
      ]
    },
    {
      "cell_type": "markdown",
      "source": [
        "lista 2"
      ],
      "metadata": {
        "id": "J1A_ewoY-pil"
      }
    },
    {
      "cell_type": "code",
      "source": [
        "import numpy as np\n",
        "import numpy as np\n",
        "\n",
        "datos = np.array([10, 20, 30, 40, 20, 50, 20])\n",
        "\n",
        "media = np.mean(datos)\n",
        "\n",
        "print(\"La media es:\", media)\n"
      ],
      "metadata": {
        "colab": {
          "base_uri": "https://localhost:8080/"
        },
        "id": "Psm1CK0X9RWB",
        "outputId": "542f0835-cbbe-4b16-fcef-8b09f4a0eebf"
      },
      "execution_count": 20,
      "outputs": [
        {
          "output_type": "stream",
          "name": "stdout",
          "text": [
            "La media es: 27.142857142857142\n"
          ]
        }
      ]
    },
    {
      "cell_type": "code",
      "source": [
        "import numpy as np\n",
        "\n",
        "\n",
        "datos = np.array([10, 20, 30, 40, 20, 50, 20 ])\n",
        "\n",
        "\n",
        "mediana = np.median(datos)\n",
        "\n",
        "print(\"La mediana es:\", mediana)\n"
      ],
      "metadata": {
        "colab": {
          "base_uri": "https://localhost:8080/"
        },
        "id": "ifVR1m-19ngf",
        "outputId": "5c32f50b-464b-4b8f-bb69-a43b70847939"
      },
      "execution_count": 21,
      "outputs": [
        {
          "output_type": "stream",
          "name": "stdout",
          "text": [
            "La mediana es: 20.0\n"
          ]
        }
      ]
    },
    {
      "cell_type": "code",
      "source": [
        "import statistics\n",
        "\n",
        "datos = [10, 20, 30, 40, 20, 50, 20 ]\n",
        "moda=statistics.mode(datos)\n",
        "print(f\"la moda es : {moda}\")"
      ],
      "metadata": {
        "colab": {
          "base_uri": "https://localhost:8080/"
        },
        "id": "_K48bDVB92je",
        "outputId": "666f5bf7-9f7c-44e8-b3b7-bcdb27823434"
      },
      "execution_count": 22,
      "outputs": [
        {
          "output_type": "stream",
          "name": "stdout",
          "text": [
            "la moda es : 20\n"
          ]
        }
      ]
    },
    {
      "cell_type": "markdown",
      "source": [
        "lista 3"
      ],
      "metadata": {
        "id": "187oXoDR-sBl"
      }
    },
    {
      "cell_type": "code",
      "source": [
        "import numpy as np\n",
        "import numpy as np\n",
        "\n",
        "datos = np.array([10, 20, 30, 40, 50])\n",
        "\n",
        "media = np.mean(datos)\n",
        "\n",
        "print(\"La media es:\", media)\n"
      ],
      "metadata": {
        "colab": {
          "base_uri": "https://localhost:8080/"
        },
        "id": "12KZ2FGm-BPW",
        "outputId": "4fbc2f6e-8cdc-470d-bd5e-2c9dd966c76b"
      },
      "execution_count": 23,
      "outputs": [
        {
          "output_type": "stream",
          "name": "stdout",
          "text": [
            "La media es: 30.0\n"
          ]
        }
      ]
    },
    {
      "cell_type": "code",
      "source": [
        "import numpy as np\n",
        "\n",
        "\n",
        "datos = np.array([10, 20, 30, 40, 50 ])\n",
        "\n",
        "\n",
        "mediana = np.median(datos)\n",
        "\n",
        "print(\"La mediana es:\", mediana)\n"
      ],
      "metadata": {
        "colab": {
          "base_uri": "https://localhost:8080/"
        },
        "id": "BGOOOtiy-Okl",
        "outputId": "88c1ddd7-6acf-4599-e0d6-b7ba8f4fee11"
      },
      "execution_count": 24,
      "outputs": [
        {
          "output_type": "stream",
          "name": "stdout",
          "text": [
            "La mediana es: 30.0\n"
          ]
        }
      ]
    },
    {
      "cell_type": "code",
      "source": [
        "import statistics\n",
        "\n",
        "datos = [10, 20, 30, 40, 50 ]\n",
        "moda=statistics.mode(datos)\n",
        "print(f\"la moda es : {moda}\")"
      ],
      "metadata": {
        "colab": {
          "base_uri": "https://localhost:8080/"
        },
        "id": "2rt10YcF-YFu",
        "outputId": "8eea5bc4-365f-4afc-ac1c-0555a22cee40"
      },
      "execution_count": 25,
      "outputs": [
        {
          "output_type": "stream",
          "name": "stdout",
          "text": [
            "la moda es : 10\n"
          ]
        }
      ]
    }
  ]
}