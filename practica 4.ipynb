{
  "nbformat": 4,
  "nbformat_minor": 0,
  "metadata": {
    "colab": {
      "provenance": [],
      "authorship_tag": "ABX9TyPlZTWYTlnpGtQdF2C9u/KE",
      "include_colab_link": true
    },
    "kernelspec": {
      "name": "python3",
      "display_name": "Python 3"
    },
    "language_info": {
      "name": "python"
    }
  },
  "cells": [
    {
      "cell_type": "markdown",
      "metadata": {
        "id": "view-in-github",
        "colab_type": "text"
      },
      "source": [
        "<a href=\"https://colab.research.google.com/github/edgar155/unidad1/blob/main/practica%204.ipynb\" target=\"_parent\"><img src=\"https://colab.research.google.com/assets/colab-badge.svg\" alt=\"Open In Colab\"/></a>"
      ]
    },
    {
      "cell_type": "code",
      "execution_count": null,
      "metadata": {
        "id": "VbtWbzggPbAQ"
      },
      "outputs": [],
      "source": []
    },
    {
      "cell_type": "markdown",
      "source": [
        "Actividad 14\n",
        "\n",
        "numpy(indexacion de matrices )acceder a elementos de una matriz la indexacion de matreicez es lo mismo que acceder a un elemento de una matriz , puede acceder a un elemento de una matriz aciendo referencia a su numero de indice.\n",
        "los indices en las matrices numpy comienzan en 0 , lo que significa que el primer elemento tiene indice 0, el segundo tiene indice 1 , el segundo tiene indice 2.\n",
        "\n",
        "Ejemplo:obtenga el primer elemento de la siguente matriz"
      ],
      "metadata": {
        "id": "LQMpz0riP8jG"
      }
    },
    {
      "cell_type": "code",
      "source": [
        "import numpy as np\n",
        "arreglo = array.np ([1,2,3,.4,5])\n",
        "print(arreglo[0])"
      ],
      "metadata": {
        "id": "5wtpgfUBR-su"
      },
      "execution_count": null,
      "outputs": []
    },
    {
      "cell_type": "markdown",
      "source": [
        "De la siguiente lista: 6,7,8,9,10 obtenga el tercero y cuarto elemento"
      ],
      "metadata": {
        "id": "jWFOBnOFSkY9"
      }
    },
    {
      "cell_type": "code",
      "source": [
        "import numpy as np\n",
        "arreglo =array.np([6,7,8,9,10])\n",
        "print(arreglo[2])\n",
        "print(arreglo[3])"
      ],
      "metadata": {
        "id": "uJFpS77KSzD9"
      },
      "execution_count": null,
      "outputs": []
    }
  ]
}