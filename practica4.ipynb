{
  "nbformat": 4,
  "nbformat_minor": 0,
  "metadata": {
    "colab": {
      "provenance": [],
      "authorship_tag": "ABX9TyOMpXp95EErdEyW2e/UUwAp",
      "include_colab_link": true
    },
    "kernelspec": {
      "name": "python3",
      "display_name": "Python 3"
    },
    "language_info": {
      "name": "python"
    }
  },
  "cells": [
    {
      "cell_type": "markdown",
      "metadata": {
        "id": "view-in-github",
        "colab_type": "text"
      },
      "source": [
        "<a href=\"https://colab.research.google.com/github/edgar155/unidad1/blob/main/practica4.ipynb\" target=\"_parent\"><img src=\"https://colab.research.google.com/assets/colab-badge.svg\" alt=\"Open In Colab\"/></a>"
      ]
    },
    {
      "cell_type": "code",
      "execution_count": null,
      "metadata": {
        "id": "VbtWbzggPbAQ"
      },
      "outputs": [],
      "source": []
    },
    {
      "cell_type": "markdown",
      "source": [
        "Actividad 14\n",
        "\n",
        "numpy(indexacion de matrices )acceder a elementos de una matriz la indexacion de matreicez es lo mismo que acceder a un elemento de una matriz , puede acceder a un elemento de una matriz aciendo referencia a su numero de indice.\n",
        "los indices en las matrices numpy comienzan en 0 , lo que significa que el primer elemento tiene indice 0, el segundo tiene indice 1 , el segundo tiene indice 2.\n",
        "\n",
        "Ejemplo:obtenga el primer elemento de la siguente matriz"
      ],
      "metadata": {
        "id": "LQMpz0riP8jG"
      }
    },
    {
      "cell_type": "code",
      "source": [
        "import numpy as np\n",
        "arreglo = np.array ([1,2,3,.4,5])\n",
        "print(arreglo[0])"
      ],
      "metadata": {
        "colab": {
          "base_uri": "https://localhost:8080/"
        },
        "id": "5wtpgfUBR-su",
        "outputId": "a7affb86-c7ce-4dcb-f97e-42b29ce64e39"
      },
      "execution_count": 2,
      "outputs": [
        {
          "output_type": "stream",
          "name": "stdout",
          "text": [
            "1.0\n"
          ]
        }
      ]
    },
    {
      "cell_type": "markdown",
      "source": [
        "De la siguiente lista: 6,7,8,9,10 obtenga el tercero y cuarto elemento"
      ],
      "metadata": {
        "id": "jWFOBnOFSkY9"
      }
    },
    {
      "cell_type": "code",
      "source": [
        "import numpy as np\n",
        "arreglo =np.array([6,7,8,9,10])\n",
        "print(arreglo[2])\n",
        "print(arreglo[3])"
      ],
      "metadata": {
        "colab": {
          "base_uri": "https://localhost:8080/"
        },
        "id": "uJFpS77KSzD9",
        "outputId": "4e166531-1cd3-49f6-ae78-2aa003bf69f9"
      },
      "execution_count": 4,
      "outputs": [
        {
          "output_type": "stream",
          "name": "stdout",
          "text": [
            "8\n",
            "9\n"
          ]
        }
      ]
    },
    {
      "cell_type": "markdown",
      "source": [
        "acceder a matrices 2d\n",
        "para acceder a elementos de matrices 2d, podemos utilizar numeros enteros separados por comas que rpresentan al numero de dimensiones y al indice del elemento\n",
        "\n",
        "Piense en matrices 2d como una tabla con filas y columnas , donde la dimension representa la fila y el indice representa la columna.\n",
        "\n",
        "Ejemplo:Realiza una matriz 2d con los siguientes listas , 1:1,2,3,4,5 lista 2:6,7,8,9,10\n",
        "\n",
        "De la matriz 2d accede al elemento de la siguente fila segunda columna\n"
      ],
      "metadata": {
        "id": "FAvcUQLGVsu2"
      }
    },
    {
      "cell_type": "code",
      "source": [
        "import numpy as np\n",
        "arreglo=np.array([[1,2,3,4,5],[6,7,8,9,10]])\n",
        "print(arreglo[0,1])"
      ],
      "metadata": {
        "colab": {
          "base_uri": "https://localhost:8080/"
        },
        "id": "50G4m8RCYwwn",
        "outputId": "ed8450cf-6097-4135-959b-40669a8fac52"
      },
      "execution_count": 6,
      "outputs": [
        {
          "output_type": "stream",
          "name": "stdout",
          "text": [
            "2\n"
          ]
        }
      ]
    }
  ]
}