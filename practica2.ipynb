{
  "nbformat": 4,
  "nbformat_minor": 0,
  "metadata": {
    "colab": {
      "provenance": [],
      "authorship_tag": "ABX9TyOZkCSp2FfujSGtDuBSXz2f",
      "include_colab_link": true
    },
    "kernelspec": {
      "name": "python3",
      "display_name": "Python 3"
    },
    "language_info": {
      "name": "python"
    }
  },
  "cells": [
    {
      "cell_type": "markdown",
      "metadata": {
        "id": "view-in-github",
        "colab_type": "text"
      },
      "source": [
        "<a href=\"https://colab.research.google.com/github/edgar155/unidad1/blob/main/practica2.ipynb\" target=\"_parent\"><img src=\"https://colab.research.google.com/assets/colab-badge.svg\" alt=\"Open In Colab\"/></a>"
      ]
    },
    {
      "cell_type": "code",
      "execution_count": null,
      "metadata": {
        "id": "JHuRqDIWrxt6"
      },
      "outputs": [],
      "source": []
    },
    {
      "cell_type": "markdown",
      "source": [
        "practica 2 - NumPy\n",
        "Edgar valerio valenzuela 5F\n",
        "FECHA 09 de septiembre de 2025\n",
        "-----------------\n",
        "como verificar el numero de dimenciones.NumPy proporciona el atributo ndim que devuelve un numero entero que nos dice cuantas dimenciones tiene una matriz.\n",
        "-------------------\n",
        "Ejemplo:comprueba de cuantas dimenciones son las siguientes matrices."
      ],
      "metadata": {
        "id": "d3NzEeLlr7zW"
      }
    },
    {
      "cell_type": "code",
      "source": [
        "import numpy as np\n",
        "\n",
        "\n",
        "arregloA = np.array(42)\n",
        "arregloB = np.array([1,2,3,4,5])\n",
        "arregloC = np.array([[1,2,3],[4,5,6]])\n",
        "arregloD = np.array([[[1,2,3],[4,5,6]],[[1,2,3],[4,5,6]]])\n",
        "\n",
        "print(arregloA.ndim)\n",
        "print(arregloB.ndim)\n",
        "print(arregloC.ndim)\n",
        "print(arregloD.ndim)"
      ],
      "metadata": {
        "colab": {
          "base_uri": "https://localhost:8080/"
        },
        "id": "yko3zYVAtYkV",
        "outputId": "f5f6c165-1638-45e4-bd73-54517c00404d"
      },
      "execution_count": 2,
      "outputs": [
        {
          "output_type": "stream",
          "name": "stdout",
          "text": [
            "0\n",
            "1\n",
            "2\n",
            "3\n"
          ]
        }
      ]
    },
    {
      "cell_type": "markdown",
      "source": [
        "matrices de dimenciones superiores\n",
        "una matriz puede tener cualquier numero de\n",
        "dimenciones. cuando se crea una matriz puede definir\n",
        "el numero de dimenciones utilizando el argumento ndmin. ejemplo:crea una matriz con 5 dimenciones y verifica que tenga las 5 dimenciones"
      ],
      "metadata": {
        "id": "85P9fsPgvzrr"
      }
    },
    {
      "cell_type": "code",
      "source": [
        "import numpy as np\n",
        "arreglo = np.array([1,2,3,4,5],ndmin =5)\n",
        "\n",
        "print(arreglo )\n",
        "print(\"numero de dimenciones\",arreglo.ndim)"
      ],
      "metadata": {
        "colab": {
          "base_uri": "https://localhost:8080/"
        },
        "id": "klshjYcnwreI",
        "outputId": "1759eef9-0cc7-45fd-ea8d-261d9127f323"
      },
      "execution_count": 12,
      "outputs": [
        {
          "output_type": "stream",
          "name": "stdout",
          "text": [
            "[[[[[1 2 3 4 5]]]]]\n",
            "numero de dimenciones 5\n"
          ]
        }
      ]
    },
    {
      "cell_type": "markdown",
      "source": [
        "Ejercicio:\n",
        "considerando la siguiente matriz\n",
        "\n",
        "arreglo = np.array([[1,2,3], [4,5,6]])\n",
        "\n",
        "¿cuantas dimenciones tiene?\n",
        "Respuesta ="
      ],
      "metadata": {
        "id": "LD307CJzydi5"
      }
    },
    {
      "cell_type": "markdown",
      "source": [
        "NumPy Indexacion de matrices\n",
        "Acceder a elementos de una matriz\n",
        "La indexacion de matrices es lo mismo que\n",
        "acceder a un elemento de una matriz. puede\n",
        "acceder a un elemento de la matriz haciendo\n",
        "referencia a su numero de indice. Los\n",
        "indices en las matricez NumPy comienzan en\n",
        "0, lo que significa que el primer elemento\n",
        "tiene el indice 0 y el segundo tiene el indice1, etc.\n",
        "Ejemplo:Obtenga el primer elemento de la siguiente matriz.\n",
        "----------------------"
      ],
      "metadata": {
        "id": "zhlYNKUczSsN"
      }
    },
    {
      "cell_type": "code",
      "source": [
        "import numpy as np\n",
        "\n",
        "\n",
        "arreglo = np.array([1,2,3,4])\n",
        "\n",
        "\n",
        "print(arreglo[0])"
      ],
      "metadata": {
        "colab": {
          "base_uri": "https://localhost:8080/"
        },
        "id": "VbMUVo9C0-a_",
        "outputId": "70d11a7a-c51a-4a49-8583-fb6308471fda"
      },
      "execution_count": 11,
      "outputs": [
        {
          "output_type": "stream",
          "name": "stdout",
          "text": [
            "1\n"
          ]
        }
      ]
    },
    {
      "cell_type": "code",
      "source": [],
      "metadata": {
        "id": "oAVpQg1ztwwU"
      },
      "execution_count": null,
      "outputs": []
    }
  ]
}