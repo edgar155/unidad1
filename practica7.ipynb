{
  "nbformat": 4,
  "nbformat_minor": 0,
  "metadata": {
    "colab": {
      "provenance": [],
      "authorship_tag": "ABX9TyMehDsyifku4CCTQEbbRIQp",
      "include_colab_link": true
    },
    "kernelspec": {
      "name": "python3",
      "display_name": "Python 3"
    },
    "language_info": {
      "name": "python"
    }
  },
  "cells": [
    {
      "cell_type": "markdown",
      "metadata": {
        "id": "view-in-github",
        "colab_type": "text"
      },
      "source": [
        "<a href=\"https://colab.research.google.com/github/edgar155/unidad1/blob/main/practica7.ipynb\" target=\"_parent\"><img src=\"https://colab.research.google.com/assets/colab-badge.svg\" alt=\"Open In Colab\"/></a>"
      ]
    },
    {
      "cell_type": "markdown",
      "source": [
        "Edgar valerio valenzuela - Practica 7 - 25 de\n",
        "septiembre de 2025.\n",
        "-------------------\n",
        "slicing NumPy\n",
        "-------------------\n",
        "Utilize STEP para determinar el paso del corte:\n",
        "\n",
        "Ejemplo: ([1,2,3,4,5,6,7]) - Devuelve todos los elementos del indice 5"
      ],
      "metadata": {
        "id": "Wt8mP4MNIB8x"
      }
    },
    {
      "cell_type": "code",
      "source": [
        "arreglo = np.array([1,2,3,4,5,6,7])\n",
        "print (arreglo[1:5:2])"
      ],
      "metadata": {
        "id": "egGwosO-IzUv"
      },
      "execution_count": null,
      "outputs": []
    },
    {
      "cell_type": "markdown",
      "source": [
        "Ejemplo 2 :([1,2,3,4,5,6,7]) Devuelve los elementos de la matriz\n",
        "\n",
        "```\n",
        "# This is formatted as code\n",
        "```\n",
        "\n"
      ],
      "metadata": {
        "id": "7qz1BXs_JH29"
      }
    },
    {
      "cell_type": "code",
      "source": [
        "import numpy as np\n",
        "arreglo = np.array([1,2,3,4,5,6,7])\n",
        "print(areglo[::2])"
      ],
      "metadata": {
        "id": "6l_5ZgC6JMB9"
      },
      "execution_count": null,
      "outputs": []
    },
    {
      "cell_type": "markdown",
      "source": [
        "slice de matrices 2D\n",
        "---------------\n",
        "Ejemplo: ([[1,2,3,4,5], [6,7,8,9,10]])\n",
        "Del segundo elemento , corte del indice 1 al\n",
        "indice 4"
      ],
      "metadata": {
        "id": "8bNwWNTrJwT-"
      }
    },
    {
      "cell_type": "code",
      "source": [
        "import numpy as np\n",
        "arreglo = np.array([[1,2,3,4,5],[6,7,8,9,10]])\n",
        "print(arreglo[1, 1:4])"
      ],
      "metadata": {
        "colab": {
          "base_uri": "https://localhost:8080/"
        },
        "id": "Xx4Jwmm1LjsC",
        "outputId": "70ce509a-9bb1-4d78-dd32-e9ef3ada383c"
      },
      "execution_count": 2,
      "outputs": [
        {
          "output_type": "stream",
          "name": "stdout",
          "text": [
            "[7 9]\n"
          ]
        }
      ]
    },
    {
      "cell_type": "markdown",
      "source": [
        "Ejemplo 4:([[1,2,3,4,5],[6,7,8,9,10]])\n",
        "De ambos elementos , devueve el indice 2\n",
        "---------------------"
      ],
      "metadata": {
        "id": "gpU5oPoJNGOu"
      }
    },
    {
      "cell_type": "code",
      "source": [
        "import numpy as np\n",
        "arreglo = np.array([[1,2,3,4,5],[6,7,8,9,10]])\n",
        "print(arreglo[0:2, 2])"
      ],
      "metadata": {
        "colab": {
          "base_uri": "https://localhost:8080/"
        },
        "id": "_1dCH3Q6NfoN",
        "outputId": "728e08fc-efb7-4804-915c-a40bdd7158d7"
      },
      "execution_count": 4,
      "outputs": [
        {
          "output_type": "stream",
          "name": "stdout",
          "text": [
            "[3 8]\n"
          ]
        }
      ]
    },
    {
      "cell_type": "markdown",
      "source": [
        "Ejemplo 5 : ([[1,2,3,4,5],[6,7,8,9,10]])\n",
        "De ambos elemntos , corta el indice 1 al\n",
        "indice 4.\n",
        "-------------"
      ],
      "metadata": {
        "id": "s6Kt22-XOGcm"
      }
    },
    {
      "cell_type": "code",
      "source": [
        "import numpy as np\n",
        "arreglo = np.array([[1,2,3,4,5],[6,7,8,9,10]])\n",
        "print(arreglo[0:2,1: 4])"
      ],
      "metadata": {
        "colab": {
          "base_uri": "https://localhost:8080/"
        },
        "id": "KtO3D4BPOgFD",
        "outputId": "cd0a0f8d-b6a7-4687-9216-4357bc4902aa"
      },
      "execution_count": 6,
      "outputs": [
        {
          "output_type": "stream",
          "name": "stdout",
          "text": [
            "[[2 3 4]\n",
            " [7 8 9]]\n"
          ]
        }
      ]
    },
    {
      "cell_type": "markdown",
      "source": [
        "Ejercicio 1 - Autonomo\n",
        "Del siguente arreglo , ¿cual es el siguente resultado?\n",
        "([1,2,3,4,5,6,7])\n",
        "corta del 1er elemento al 6to elemento con paso 2"
      ],
      "metadata": {
        "id": "zNp3r_o3POim"
      }
    },
    {
      "cell_type": "code",
      "source": [
        "import numpy as np\n",
        "arreglo = np.array([1,2,3,4,5,6,7])\n",
        "print(arreglo[0:6:2 ])"
      ],
      "metadata": {
        "colab": {
          "base_uri": "https://localhost:8080/"
        },
        "id": "RtHxrxRbP7_C",
        "outputId": "21e5b6ba-210c-4fe9-ed0f-72e40c5605cc"
      },
      "execution_count": 13,
      "outputs": [
        {
          "output_type": "stream",
          "name": "stdout",
          "text": [
            "[1 3 5]\n"
          ]
        }
      ]
    }
  ]
}