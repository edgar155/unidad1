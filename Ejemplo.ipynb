{
  "nbformat": 4,
  "nbformat_minor": 0,
  "metadata": {
    "colab": {
      "provenance": [],
      "authorship_tag": "ABX9TyN3j/3sED515tQCCMWdPEOb",
      "include_colab_link": true
    },
    "kernelspec": {
      "name": "python3",
      "display_name": "Python 3"
    },
    "language_info": {
      "name": "python"
    }
  },
  "cells": [
    {
      "cell_type": "markdown",
      "metadata": {
        "id": "view-in-github",
        "colab_type": "text"
      },
      "source": [
        "<a href=\"https://colab.research.google.com/github/edgar155/unidad1/blob/main/Ejemplo.ipynb\" target=\"_parent\"><img src=\"https://colab.research.google.com/assets/colab-badge.svg\" alt=\"Open In Colab\"/></a>"
      ]
    },
    {
      "cell_type": "code",
      "execution_count": null,
      "metadata": {
        "id": "1kerhwFvwDVd"
      },
      "outputs": [],
      "source": []
    },
    {
      "cell_type": "markdown",
      "source": [
        "prueba de colab python"
      ],
      "metadata": {
        "id": "o3s8mlSOxeM_"
      }
    },
    {
      "cell_type": "code",
      "source": [
        "print(\"hola mundo\")"
      ],
      "metadata": {
        "colab": {
          "base_uri": "https://localhost:8080/"
        },
        "id": "8YYiQudgxyWm",
        "outputId": "38f6d9c2-53fd-4dfc-a2a4-734370e25e88"
      },
      "execution_count": 1,
      "outputs": [
        {
          "output_type": "stream",
          "name": "stdout",
          "text": [
            "hola mundo\n"
          ]
        }
      ]
    },
    {
      "cell_type": "markdown",
      "source": [
        "variables"
      ],
      "metadata": {
        "id": "obxwoVvsyRAl"
      }
    },
    {
      "cell_type": "code",
      "source": [
        "#variables en python\n",
        "nombre=\"edgar\"\n",
        "paterno=\"valerio\"\n",
        "materno=\"valenzuela\"\n",
        "edad=30\n",
        "estatura=1.62\n",
        "\n",
        "print(nombre,paterno,materno,edad,estatura)"
      ],
      "metadata": {
        "colab": {
          "base_uri": "https://localhost:8080/"
        },
        "id": "mwPV1SuLyVfW",
        "outputId": "caa950db-51fa-4cc8-de66-cbccfe40f35b"
      },
      "execution_count": 2,
      "outputs": [
        {
          "output_type": "stream",
          "name": "stdout",
          "text": [
            "edgar valerio valenzuela 30 1.62\n"
          ]
        }
      ]
    },
    {
      "cell_type": "markdown",
      "source": [
        "solicitar 2 numeros al usuario y sumarlos"
      ],
      "metadata": {
        "id": "nUzjs2kJzf_Y"
      }
    },
    {
      "cell_type": "code",
      "source": [
        "numero1= int(input(\"ingrese el primer numero\"))\n",
        "numero2= int(input(\"ingrese el segundo mumero\"))\n",
        "suma = numero1 + numero2\n",
        "print(\"suma = \",suma)\n"
      ],
      "metadata": {
        "colab": {
          "base_uri": "https://localhost:8080/"
        },
        "id": "_NfSVD_WzvVS",
        "outputId": "75e11cb9-d613-43d7-b10c-63b731b66c82"
      },
      "execution_count": 3,
      "outputs": [
        {
          "output_type": "stream",
          "name": "stdout",
          "text": [
            "ingrese el primer numero5\n",
            "ingrese el segundo mumero10\n",
            "suma =  15\n"
          ]
        }
      ]
    }
  ]
}